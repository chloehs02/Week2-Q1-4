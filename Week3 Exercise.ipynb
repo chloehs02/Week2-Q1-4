{
 "cells": [
  {
   "cell_type": "markdown",
   "id": "a0de9692",
   "metadata": {},
   "source": [
    "## Learning Outcomes\n",
    "1. Load, display, and save images\n",
    "2. Load, show and save videos\n",
    "3. Image resizing"
   ]
  },
  {
   "cell_type": "markdown",
   "id": "90dd538e",
   "metadata": {},
   "source": [
    "## Why OpenCV?\n",
    "- Large community support, i.e. you can find a lot of resources online.\n",
    "- Compatible with several OS, MacOS, Windows, and Linux. Can be written in C++, Java languages.\n",
    "- Interoperable with Numpy module, thereby fast computation and mathematical operations on image array."
   ]
  },
  {
   "cell_type": "markdown",
   "id": "ae0047cd",
   "metadata": {},
   "source": [
    "## Setup"
   ]
  },
  {
   "cell_type": "code",
   "execution_count": 8,
   "id": "c24b6242",
   "metadata": {},
   "outputs": [],
   "source": [
    "import sys\n",
    "# Minimum Python 3.7\n",
    "assert sys.version_info >= (3, 7)\n",
    "\n",
    "import numpy as np\n",
    "import cv2 as cv     # useOptimized() has been enabled"
   ]
  },
  {
   "cell_type": "markdown",
   "id": "1b92be5f",
   "metadata": {},
   "source": [
    "## Image formats\n",
    "- TIF (.tif)\n",
    "    * good for printing, great depth level, large file size\n",
    "- bmp (.bmp)\n",
    "    * large file size\n",
    "- gif (.gif) (OpenCV cannot handle)\n",
    "    * animation, shallow color depth\n",
    "- jpeg (.jpeg, .jpg - for window, .jfif)\n",
    "    * photo\n",
    "- PNG (.png)\n",
    "    * website (image)\n",
    "- webp (.webp)\n",
    "    * website, smaller file size compared to png and jpeg, not supported by all the browser."
   ]
  },
  {
   "cell_type": "code",
   "execution_count": null,
   "id": "5a9d388e",
   "metadata": {},
   "outputs": [],
   "source": [
    "# read image\n",
    "img = cv.imread(\"images/lena.jfif\")\n",
    "img_grayscale = cv.imread(\"images/lena.jfif\", 0)\n",
    "# 0 is for grayscale, -1: cv.IMREAD_UNCHANGED, 1 (default)\n",
    "\n",
    "cv.imshow(\"lena_color\", img)\n",
    "cv.imshow(\"lena_grayscale\", img_grayscale)\n",
    "cv.waitKey(0)    # keyboard binding function, wait for user's response\n",
    "cv.destroyAllWindows()"
   ]
  },
  {
   "cell_type": "code",
   "execution_count": null,
   "id": "a3891892",
   "metadata": {},
   "outputs": [],
   "source": [
    "def show_img(window_name, img):\n",
    "    \"\"\"Arguments: window_name and img\"\"\"\n",
    "    cv.imshow(window_name, img)\n",
    "    cv.waitKey(0)\n",
    "    cv.destroyAllWindows()"
   ]
  },
  {
   "cell_type": "code",
   "execution_count": null,
   "id": "a365abe1",
   "metadata": {},
   "outputs": [],
   "source": [
    "img = cv.imread(\"images/lena.png\")\n",
    "\n",
    "show_img(\"lena\", img)"
   ]
  },
  {
   "cell_type": "code",
   "execution_count": null,
   "id": "0ee23b1d",
   "metadata": {},
   "outputs": [],
   "source": [
    "# show differences between jpeg and png images\n",
    "img_jpeg = cv.imread(\"images/lena.jfif\", -1)\n",
    "img_png = cv.imread(\"images/lena.png\", -1)\n",
    "\n",
    "print(f\"The shape of jpg image: {img_jpeg.shape}\")\n",
    "print(f\"The shape of png image: {img_png.shape}\")"
   ]
  },
  {
   "cell_type": "code",
   "execution_count": null,
   "id": "26c2f299",
   "metadata": {},
   "outputs": [],
   "source": [
    "pip install imageio"
   ]
  },
  {
   "cell_type": "code",
   "execution_count": null,
   "id": "aea5154f",
   "metadata": {},
   "outputs": [],
   "source": [
    "import imageio\n",
    "\n",
    "GIF = imageio.mimread(\"images/rotating_earth_large.gif\")\n",
    "# convert RGB (RED, GREEN, BLUE) to BGR (BLUE, GREEN, RED)\n",
    "imgs = [cv.cvtColor(img, cv.COLOR_RGB2BGR) for img in GIF]  # change image color state\n",
    "\n",
    "for img in imgs:\n",
    "    cv.imshow(\"GIF\", img)\n",
    "    cv.waitKey(150)    # wait 150 milisecond for user's input\n",
    "    \n",
    "cv.destroyAllWindows()"
   ]
  },
  {
   "cell_type": "markdown",
   "id": "011d4c9f",
   "metadata": {},
   "source": [
    "## save images\n",
    "```\n",
    "cv.imwrite(filename, img)\n",
    "```"
   ]
  },
  {
   "cell_type": "code",
   "execution_count": null,
   "id": "f8ddfdff",
   "metadata": {},
   "outputs": [],
   "source": [
    "# a good way to load, display and save images\n",
    "img = cv.imread(cv.samples.findFile(\"images/lena.jfif\"))\n",
    "\n",
    "if img is None:\n",
    "    sys.exit(\"No such filepath!\")\n",
    "\n",
    "cv.imshow(\"img\", img)\n",
    "k = cv.waitKey(0) & 0xFF   # \n",
    "if k == 115:\n",
    "    cv.imwrite(\"images/lena_save.jpg\", img)\n",
    "    \n",
    "cv.destroyAllWindows()"
   ]
  },
  {
   "cell_type": "markdown",
   "id": "d97a93b6",
   "metadata": {},
   "source": [
    "## basic operations on videos\n",
    "Video is basically sequences of images.\n",
    "\n",
    "### Load and display videos with OpenCV"
   ]
  },
  {
   "cell_type": "code",
   "execution_count": null,
   "id": "a4fd3486",
   "metadata": {},
   "outputs": [],
   "source": [
    "# Initiate an object\n",
    "cap = cv.VideoCapture(\"videos/img_pexels.mp4\")\n",
    "\n",
    "if not cap.isOpened():\n",
    "    sys.exit(\"The video filepath is not correct\")\n",
    "\n",
    "cv.namedWindow(\"frame\", cv.WINDOW_NORMAL)    \n",
    "while True:\n",
    "    ret, frame = cap.read()\n",
    "    \n",
    "    if not ret:\n",
    "        print(\"No frame received!\")\n",
    "        break\n",
    "        \n",
    "    cv.imshow(\"frame\", frame)\n",
    "    k = cv.waitKey(1) & 0xFF\n",
    "    if k == 27:  # 27 - means ESCAPE (in ASCII)\n",
    "        break\n",
    "        \n",
    "cap.release()\n",
    "cv.destroyAllWindows()"
   ]
  },
  {
   "cell_type": "code",
   "execution_count": null,
   "id": "d4324d9f",
   "metadata": {},
   "outputs": [],
   "source": [
    "# use webcam, get the video and save it on local disk\n",
    "cap = cv.VideoCapture(0)\n",
    "\n",
    "if not cap.isOpened():\n",
    "    sys.exit(\"No webcam is detected\")\n",
    "    \n",
    "    \n",
    "# need to have filename, fourcc, fps, frame size\n",
    "fourcc = cv.VideoWriter_fourcc(\"M\", \"J\", \"P\", \"G\")\n",
    "fps = 15                                  # can set any number you like\n",
    "w, h = int(cap.get(3)), int(cap.get(4))   # width. height\n",
    "out = cv.VideoWriter(\"videos/out.avi\", fourcc)\n",
    "\n",
    "while True:\n",
    "    ret, frame = cap.read()\n",
    "    \n",
    "    if not ret:\n",
    "        print(\"No frame received!\")\n",
    "        break\n",
    "        \n",
    "    out.write(frame)    \n",
    "    cv.imshow(\"frame\", frame)\n",
    "    k = cv.waitKey(1) & 0xFF\n",
    "    if k == 27:  # 27 - means ESCAPE (in ASCII)\n",
    "        break\n",
    "        \n",
    "cap.release()\n",
    "out.release()\n",
    "cv.destroyAllWindows()"
   ]
  },
  {
   "cell_type": "code",
   "execution_count": null,
   "id": "9774bbb6",
   "metadata": {},
   "outputs": [],
   "source": [
    "cap = cv.VideoCapture(0)\n",
    "print(f\"FPS of webcam: {cap.get(5)}\")"
   ]
  },
  {
   "cell_type": "code",
   "execution_count": null,
   "id": "5af9c4c7",
   "metadata": {},
   "outputs": [],
   "source": [
    "import time"
   ]
  },
  {
   "cell_type": "code",
   "execution_count": null,
   "id": "0cebfae2",
   "metadata": {},
   "outputs": [],
   "source": [
    "# Initiate an object\n",
    "cap = cv.VideoCapture(\"videos/img_pexels.mp4\")\n",
    "\n",
    "if not cap.isOpened():\n",
    "    sys.exit(\"The video filepath is not correct\")\n",
    "\n",
    "cv.namedWindow(\"frame\", cv.WINDOW_NORMAL) \n",
    "start = time.time()\n",
    "while True:\n",
    "    ret, frame = cap.read()\n",
    "    \n",
    "    if not ret:\n",
    "        print(\"No frame received!\")\n",
    "        break\n",
    "        \n",
    "    cv.imshow(\"frame\", frame)\n",
    "    k = cv.waitKey(1) & 0xFF\n",
    "    if k == 27:  # 27 - means ESCAPE (in ASCII)\n",
    "        break\n",
    " \n",
    "end = time.time()\n",
    "#cap.release()\n",
    "cv.destroyAllWindows()"
   ]
  },
  {
   "cell_type": "code",
   "execution_count": null,
   "id": "45567c28",
   "metadata": {},
   "outputs": [],
   "source": [
    "print(f\"The fps: {cap.get(5)}\")\n",
    "n_frames = cap.get(7)\n",
    "print(f\"The estimated fps using OpenCV: {n_frames / (end-start)}\")"
   ]
  },
  {
   "cell_type": "markdown",
   "id": "8d1d7ade",
   "metadata": {},
   "source": [
    "## Image resizing"
   ]
  },
  {
   "cell_type": "markdown",
   "id": "07708c5c",
   "metadata": {},
   "source": [
    "There are 2 ways to do image resizing:\n",
    "1. specify the desired image width and height\n",
    "2. scale factor (maintain the aspect ratio)\n",
    "\n",
    "```\n",
    "cv.resize(img, (x_new, y_new), fx, fy, interpolation)\n",
    "```\n",
    "The default interpolation is bilinear interpolation."
   ]
  },
  {
   "cell_type": "code",
   "execution_count": null,
   "id": "71b471a2",
   "metadata": {},
   "outputs": [],
   "source": [
    "img = cv.imread(\"images/soccer.jpg\")\n",
    "\n",
    "new_height = 450\n",
    "new_width = 300\n",
    "\n",
    "img_resize = cv.resize(img, (new_width, new_height))\n",
    "\n",
    "cv.imshow(\"original\", img)\n",
    "show_img(\"resize\", img_resize)  # defined function created before"
   ]
  },
  {
   "cell_type": "code",
   "execution_count": null,
   "id": "0158a078",
   "metadata": {},
   "outputs": [],
   "source": [
    "img.shape"
   ]
  },
  {
   "cell_type": "code",
   "execution_count": null,
   "id": "01c77d66",
   "metadata": {},
   "outputs": [],
   "source": [
    "# 2nd method: scale factor\n",
    "img = cv.imread(\"images/lena.jfif\")\n",
    "\n",
    "img_resize = cv.resize(img, None, fx=1.5, fy=1.5)\n",
    "\n",
    "cv.imshow(\"original\", img)\n",
    "show_img(\"resize\", img_resize)"
   ]
  },
  {
   "cell_type": "markdown",
   "id": "3b80e584",
   "metadata": {},
   "source": [
    "## Exercise\n",
    "\n",
    "## Question 1"
   ]
  },
  {
   "cell_type": "code",
   "execution_count": null,
   "id": "00325b81",
   "metadata": {},
   "outputs": [],
   "source": [
    "# 1.\n",
    "\n",
    "# load and display the image\n",
    "img = cv.imread(cv.samples.findFile(\"images/dog.jfif\"))  # formalized way\n",
    "\n",
    "cv.imshow(\"dog\", img)\n",
    "k = cv.waitKey(0) & 0xFF\n",
    "if k == 115:\n",
    "    cv.imwrite(\"images/dog_save.png\", img)  # save the image in png format\n",
    "\n",
    "cv.destroyAllWindows()"
   ]
  },
  {
   "cell_type": "markdown",
   "id": "e2462fc0",
   "metadata": {},
   "source": [
    "## Question 2"
   ]
  },
  {
   "cell_type": "code",
   "execution_count": null,
   "id": "258a2850",
   "metadata": {},
   "outputs": [],
   "source": [
    "# 2.\n",
    "img = cv.imread(\"images/lena.jfif\")\n",
    "img_grayscale = cv.imread(\"images/lena.jfif\", 0)\n",
    "\n",
    "cv.imshow(\"lena\", img)\n",
    "show_img(\"grayscale\", img_grayscale)"
   ]
  },
  {
   "cell_type": "code",
   "execution_count": null,
   "id": "56ec5072",
   "metadata": {},
   "outputs": [],
   "source": [
    "#2nd way: matplotlib\n",
    "import matplotlib.pyplot as plt"
   ]
  },
  {
   "cell_type": "code",
   "execution_count": null,
   "id": "7b0b6ecf",
   "metadata": {},
   "outputs": [],
   "source": [
    "img_rgb = cv.cvtColor(img, cv.COLOR_BGR2RGB)\n",
    "\n",
    "plt.subplot(121)\n",
    "plt.imshow(img_rgb)\n",
    "plt.xticks([]), plt.yticks([])\n",
    "plt.subplot(122)\n",
    "plt.imshow(img_grayscale, cmap=plt.cm.gray)\n",
    "plt.xticks([]), plt.yticks([])\n",
    "plt.suptitle(\"Display 2 images at once\")\n",
    "plt.show()"
   ]
  },
  {
   "cell_type": "code",
   "execution_count": null,
   "id": "3d771894",
   "metadata": {},
   "outputs": [],
   "source": [
    "# convert the grayscale to bgr\n",
    "img_gray_bgr = cv.cvtColor(img_grayscale, cv.COLOR_GRAY2BGR)\n",
    "\n",
    "img_combined = np.hstack([img, img_gray_bgr])\n",
    "\n",
    "show_img(\"img_combined\", img_combined)"
   ]
  },
  {
   "cell_type": "code",
   "execution_count": null,
   "id": "8891e7b7",
   "metadata": {},
   "outputs": [],
   "source": [
    "#Question 3\n",
    "cap = cv.VideoCapture(\"videos/img_pexels.mp4\")\n",
    "\n",
    "if not cap.isOpened():\n",
    "    sys.exit(\"No such file\")\n",
    "    \n",
    "fourcc = cv.VideoWriter_fourcc('M', 'J', 'P', 'G')\n",
    "w, h = int(cap.get(3) * 0.5), int(cap.get(4) * 0.5)\n",
    "\n",
    "out = cv.VideoWriter(\"videos/img_pexels.avi\", fourcc, 20, (w, h))\n",
    "\n",
    "while cap.isOpened():\n",
    "    ret, frame = cap.read()\n",
    "    \n",
    "    if not ret:\n",
    "        print(\"No frame detected!\")\n",
    "        break\n",
    "        \n",
    "    frame_resize = cv.resize(frame, None, fx=0.4, fy=0.4)\n",
    "    out.write(frame_resize)\n",
    "    cv.imshow(\"video\", frame_resize)\n",
    "    \n",
    "    if cv.waitKey(1) == 27:\n",
    "        break\n",
    "        \n",
    "cap.release()\n",
    "out.release()\n",
    "cv.destroyAllWindows()"
   ]
  },
  {
   "cell_type": "code",
   "execution_count": null,
   "id": "20308cbd",
   "metadata": {},
   "outputs": [],
   "source": [
    "#Q4\n",
    "img = cv.imread(\"images/dog.jfif\")\n",
    "\n",
    "if img is None:\n",
    "    sys.exit(\"No image\")\n",
    "\n",
    "#1) linear interpolation - using straight line to estimate between 2 neighbouring data\n",
    "img_resize1 = cv.resize(img, None, fx=1.5, fy=1.5, interpolation=cv.INTER_LINEAR)\n",
    "#2) Cubic interpolation - more data points than linear\n",
    "img_resize2 = cv.resize(img, None, fx=1.5, fy=1.5, interpolation=cv.INTER_CUBIC)\n",
    "#3) Nearest neighbour interpolation - assign value of the nearest data point to the interpolated point\n",
    "img_resize3 = cv.resize(img, None, fx = 1.5, fy = 1.5, interpolation=cv.INTER_NEAREST)\n",
    "    \n",
    "cv.imshow(\"original\", img)\n",
    "cv.imshow(\"upscale-linear\", img_resize1)\n",
    "cv.imshow(\"upscale-cubic\", img_resize2)\n",
    "cv.imshow(\"upscale-nearest neighbour\", img_resize3)\n",
    "\n",
    "cv.waitKey(0)\n",
    "cv.destroyAllWindows()"
   ]
  },
  {
   "cell_type": "code",
   "execution_count": null,
   "id": "5140e2f3",
   "metadata": {},
   "outputs": [],
   "source": []
  },
  {
   "cell_type": "code",
   "execution_count": null,
   "id": "cbf52849",
   "metadata": {},
   "outputs": [],
   "source": []
  }
 ],
 "metadata": {
  "kernelspec": {
   "display_name": "Python 3 (ipykernel)",
   "language": "python",
   "name": "python3"
  },
  "language_info": {
   "codemirror_mode": {
    "name": "ipython",
    "version": 3
   },
   "file_extension": ".py",
   "mimetype": "text/x-python",
   "name": "python",
   "nbconvert_exporter": "python",
   "pygments_lexer": "ipython3",
   "version": "3.10.9"
  }
 },
 "nbformat": 4,
 "nbformat_minor": 5
}
